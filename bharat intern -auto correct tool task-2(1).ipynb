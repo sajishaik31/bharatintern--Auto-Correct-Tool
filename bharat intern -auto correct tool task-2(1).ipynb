{
 "cells": [
  {
   "cell_type": "code",
   "execution_count": 1,
   "id": "1dd8b383",
   "metadata": {},
   "outputs": [
    {
     "name": "stdout",
     "output_type": "stream",
     "text": [
      "Enter a word: hello\n",
      "Corrected word: hello\n"
     ]
    }
   ],
   "source": [
    "from autocorrect import Speller\n",
    "\n",
    "def autocorrect_word(word):\n",
    "    spell = Speller(lang='en')\n",
    "    corrected_word = spell(word)\n",
    "    return corrected_word\n",
    "\n",
    "word = input(\"Enter a word: \")\n",
    "corrected_word = autocorrect_word(word)\n",
    "print(\"Corrected word:\", corrected_word)\n"
   ]
  },
  {
   "cell_type": "code",
   "execution_count": null,
   "id": "9e53bf56",
   "metadata": {},
   "outputs": [],
   "source": []
  }
 ],
 "metadata": {
  "kernelspec": {
   "display_name": "Python 3 (ipykernel)",
   "language": "python",
   "name": "python3"
  },
  "language_info": {
   "codemirror_mode": {
    "name": "ipython",
    "version": 3
   },
   "file_extension": ".py",
   "mimetype": "text/x-python",
   "name": "python",
   "nbconvert_exporter": "python",
   "pygments_lexer": "ipython3",
   "version": "3.10.9"
  }
 },
 "nbformat": 4,
 "nbformat_minor": 5
}
